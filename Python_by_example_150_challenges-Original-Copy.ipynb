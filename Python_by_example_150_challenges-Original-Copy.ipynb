{
 "cells": [
  {
   "cell_type": "markdown",
   "id": "1e5ce3dc",
   "metadata": {},
   "source": [
    "# PYTHON BY EXAMPL E\n",
    "## Learning to Program in 150 Challenges\n",
    "\n"
   ]
  },
  {
   "cell_type": "markdown",
   "id": "d77f67fe",
   "metadata": {},
   "source": [
    "## The Basic"
   ]
  },
  {
   "cell_type": "markdown",
   "id": "90ed2deb",
   "metadata": {},
   "source": [
    "### 001\n",
    "\n",
    "Ask for the user’s first name and\n",
    "display the output message\n",
    "###### Hello [First Name] ."
   ]
  },
  {
   "cell_type": "code",
   "execution_count": null,
   "id": "13911619",
   "metadata": {},
   "outputs": [],
   "source": []
  },
  {
   "cell_type": "markdown",
   "id": "f46ded97",
   "metadata": {},
   "source": [
    "### 002\n",
    "Ask for the user’s first name and then ask for\n",
    "their surname and display the output message\n",
    "###### Hello [First Name] [Surname]"
   ]
  },
  {
   "cell_type": "code",
   "execution_count": null,
   "id": "176ed930",
   "metadata": {},
   "outputs": [],
   "source": []
  },
  {
   "cell_type": "markdown",
   "id": "916f46e3",
   "metadata": {},
   "source": [
    "### 003\n",
    "Write code that will display the joke “What do you call a bear with no\n",
    "teeth?” and on the next line display the answer “A gummy bear!” Try to\n",
    "create it using only one line of code."
   ]
  },
  {
   "cell_type": "code",
   "execution_count": null,
   "id": "fa011b79",
   "metadata": {},
   "outputs": [],
   "source": []
  },
  {
   "cell_type": "markdown",
   "id": "94dc95ad",
   "metadata": {},
   "source": [
    "### 004\n",
    "Ask the user to enter two numbers. Add them together and display the answer as \n",
    "###### The total is [answer]"
   ]
  },
  {
   "cell_type": "code",
   "execution_count": null,
   "id": "af97c89a",
   "metadata": {},
   "outputs": [],
   "source": []
  },
  {
   "cell_type": "markdown",
   "id": "be7b86f7",
   "metadata": {},
   "source": [
    "### 005 \n",
    "Ask the user to enter three numbers. Add together the first two numbers and then multiply this total by the third. Display the answer as \n",
    "###### The answer is [answer] ."
   ]
  },
  {
   "cell_type": "code",
   "execution_count": null,
   "id": "454ffead",
   "metadata": {},
   "outputs": [],
   "source": []
  },
  {
   "cell_type": "markdown",
   "id": "20db86f2",
   "metadata": {},
   "source": [
    "### 006 \n",
    "Ask how many slices of pizza the user started with and ask how many slices they have eaten.\n",
    "Work out how many slices they have left and display the answer in a user-friendly format."
   ]
  },
  {
   "cell_type": "code",
   "execution_count": null,
   "id": "b991c580",
   "metadata": {},
   "outputs": [],
   "source": []
  },
  {
   "cell_type": "markdown",
   "id": "3f861d85",
   "metadata": {},
   "source": [
    "### 007\n",
    "Ask the user for their name and their age. Add 1 to their age\n",
    "and display the output \n",
    "###### [Name] next birthday you will be [new age] ."
   ]
  },
  {
   "cell_type": "code",
   "execution_count": null,
   "id": "2dfca480",
   "metadata": {},
   "outputs": [],
   "source": []
  },
  {
   "cell_type": "markdown",
   "id": "e13304b5",
   "metadata": {},
   "source": [
    "### 008 \n",
    "Ask for the total price of the bill, then ask how many diners there are. Divide the total bill by the number of diners and show how much each person must pay."
   ]
  },
  {
   "cell_type": "code",
   "execution_count": null,
   "id": "7c493827",
   "metadata": {},
   "outputs": [],
   "source": []
  },
  {
   "cell_type": "markdown",
   "id": "9155acd5",
   "metadata": {},
   "source": [
    "### 009\n",
    "Write a program that will ask for a number of days and then will show how many hours, minutes\n",
    "and seconds are in that number of\n",
    "days"
   ]
  },
  {
   "cell_type": "code",
   "execution_count": null,
   "id": "a17850de",
   "metadata": {},
   "outputs": [],
   "source": []
  },
  {
   "cell_type": "markdown",
   "id": "e5d6fb96",
   "metadata": {},
   "source": [
    "### 010\n",
    "There are 2,204 pounds in a kilogram. Ask the user to enter a weight in kilograms and convert it to pounds."
   ]
  },
  {
   "cell_type": "code",
   "execution_count": null,
   "id": "b886e652",
   "metadata": {},
   "outputs": [],
   "source": []
  },
  {
   "cell_type": "markdown",
   "id": "829eaa9c",
   "metadata": {},
   "source": [
    "### 011\n",
    "Task the user to enter a number over 100 and then enter a number under 10 and tell them how many times the smaller number goes into the larger number in a user-friendly format.\n",
    "\n"
   ]
  },
  {
   "cell_type": "code",
   "execution_count": null,
   "id": "30375d75",
   "metadata": {},
   "outputs": [],
   "source": []
  },
  {
   "cell_type": "markdown",
   "id": "747d70ae",
   "metadata": {},
   "source": [
    "## If Statements"
   ]
  },
  {
   "cell_type": "markdown",
   "id": "919e9e3b",
   "metadata": {},
   "source": [
    "### 012\n",
    "Ask for two numbers. If the first one is larger than the second, display the second number first\n",
    "and then the first number, otherwise show the first number first and then the second."
   ]
  },
  {
   "cell_type": "code",
   "execution_count": null,
   "id": "7992739d",
   "metadata": {},
   "outputs": [],
   "source": []
  },
  {
   "cell_type": "markdown",
   "id": "d0c2540c",
   "metadata": {},
   "source": [
    "### 013\n",
    "Ask the user to enter a number that is under 20. If they enter a number that is 20 or more, display the message “Too high”, otherwise display “Thank you”."
   ]
  },
  {
   "cell_type": "code",
   "execution_count": null,
   "id": "3d8aa915",
   "metadata": {},
   "outputs": [],
   "source": []
  },
  {
   "cell_type": "markdown",
   "id": "7b3a62ad",
   "metadata": {},
   "source": [
    "### 014\n",
    "Ask the user to enter a number between 10 and 20 (inclusive). If they enter a number within this range, display the message “Thank you”, otherwise display the message “Incorrect answer”."
   ]
  },
  {
   "cell_type": "code",
   "execution_count": null,
   "id": "932ed913",
   "metadata": {},
   "outputs": [],
   "source": []
  },
  {
   "cell_type": "markdown",
   "id": "6449b20b",
   "metadata": {},
   "source": [
    "### 015\n",
    "Ask the user to enter their favourite colour. If they enter “red”, “RED” or “Red” display the message “I like red too”, otherwise display the message “I don’t like [colour], I prefer red”."
   ]
  },
  {
   "cell_type": "code",
   "execution_count": null,
   "id": "3efeee55",
   "metadata": {},
   "outputs": [],
   "source": []
  },
  {
   "cell_type": "markdown",
   "id": "599a10a2",
   "metadata": {},
   "source": [
    "### 016\n",
    "Ask the user if it is raining and convert their answer to lower case so it doesn’t matter what case they type it in. If they answer “yes”, ask if it is windy. If they answer “yes” to this second question, display the answer “It is too windy for an umbrella”, otherwise display the message “Take an umbrella”. If they did not answer yes to the first question, display the answer “Enjoy your day”."
   ]
  },
  {
   "cell_type": "code",
   "execution_count": null,
   "id": "804c57bb",
   "metadata": {},
   "outputs": [],
   "source": []
  },
  {
   "cell_type": "markdown",
   "id": "85f88c39",
   "metadata": {},
   "source": [
    "### 017\n",
    "Ask the user’s age. If they are 18 or over, display the message “You can vote”, if they are aged 17, display the message “You can learn to drive”, if they are 16, display the message “You can buy a lottery ticket”, if they are under 16, display the message “You can go Trick-or-Treating”."
   ]
  },
  {
   "cell_type": "code",
   "execution_count": null,
   "id": "732c1f4f",
   "metadata": {},
   "outputs": [],
   "source": []
  },
  {
   "cell_type": "markdown",
   "id": "a38b49f9",
   "metadata": {},
   "source": [
    "### 018\n",
    "Ask the user to enter a number. If it is under 10, display the message “Too low”, if their number is between 10 and 20, display “Correct”, otherwise display “Too high”."
   ]
  },
  {
   "cell_type": "code",
   "execution_count": null,
   "id": "3f631b7f",
   "metadata": {},
   "outputs": [],
   "source": []
  },
  {
   "cell_type": "markdown",
   "id": "bf9fbaad",
   "metadata": {},
   "source": [
    "### 019\n",
    "Ask the user to enter 1, 2 or 3. If they enter a 1, display the message “Thank you”, if they enter a 2, display “Well done”, if they enter a 3, display “Correct”. If they enter anything else, display “Error message”."
   ]
  },
  {
   "cell_type": "code",
   "execution_count": null,
   "id": "5fc9b82f",
   "metadata": {},
   "outputs": [],
   "source": []
  },
  {
   "cell_type": "markdown",
   "id": "46fc81cf",
   "metadata": {},
   "source": [
    "## Strings"
   ]
  },
  {
   "cell_type": "markdown",
   "id": "be0c5818",
   "metadata": {},
   "source": [
    "### 020\n",
    "Ask the user to enter their first name and then display the length of their name."
   ]
  },
  {
   "cell_type": "code",
   "execution_count": null,
   "id": "c4e2cd93",
   "metadata": {},
   "outputs": [],
   "source": []
  },
  {
   "cell_type": "markdown",
   "id": "7a589b4c",
   "metadata": {},
   "source": [
    "### 021 \n",
    "Ask the user to enter their first name and then ask them to enter their surname. Join them together with a space between and display the name and the length of whole name."
   ]
  },
  {
   "cell_type": "code",
   "execution_count": null,
   "id": "8db257d8",
   "metadata": {},
   "outputs": [],
   "source": []
  },
  {
   "cell_type": "markdown",
   "id": "417939a4",
   "metadata": {},
   "source": [
    "### 022\n",
    "Ask the user to enter their first name and surname in lower case. Change the case to title case and join them together. Display the finished result."
   ]
  },
  {
   "cell_type": "code",
   "execution_count": null,
   "id": "f4554aae",
   "metadata": {},
   "outputs": [],
   "source": []
  },
  {
   "cell_type": "markdown",
   "id": "7ea66873",
   "metadata": {},
   "source": [
    "### 023\n",
    "\n",
    "Ask the user to type in the first line of a nursery rhyme and display the length of the string. Ask for a starting number and an ending number and then display just that section of the text (remember Python starts counting from 0 and not 1)."
   ]
  },
  {
   "cell_type": "code",
   "execution_count": null,
   "id": "a0df7d17",
   "metadata": {},
   "outputs": [],
   "source": []
  },
  {
   "cell_type": "markdown",
   "id": "5fc94aee",
   "metadata": {},
   "source": [
    "### 024\n",
    "Ask the user to type in any word and display it in upper case."
   ]
  },
  {
   "cell_type": "code",
   "execution_count": null,
   "id": "57e71f75",
   "metadata": {},
   "outputs": [],
   "source": []
  },
  {
   "cell_type": "markdown",
   "id": "8b40f888",
   "metadata": {},
   "source": [
    "### 025\n",
    "Ask the user to enter their first name. If the length of their first name is under five characters, ask them to enter their surname and join them together (without a space) and display the name in upper case. If the length of the first name is five or more characters, display their first name in lower case."
   ]
  },
  {
   "cell_type": "code",
   "execution_count": null,
   "id": "5bfc7da9",
   "metadata": {},
   "outputs": [],
   "source": []
  },
  {
   "cell_type": "markdown",
   "id": "4e3796e1",
   "metadata": {},
   "source": [
    "### 026\n",
    "Pig Latin takes the first consonant of a word, moves it to the end of the word and adds on an “ay”. If a word begins with a vowel you just add “way” to the end. For example, pig becomes igpay, banana becomes ananabay, and aadvark becomes aadvarkway. Create a program that will ask the user to enter a word and change it into Pig Latin. Make sure the new word is displayed in lower case."
   ]
  },
  {
   "cell_type": "code",
   "execution_count": null,
   "id": "b7c6f9b3",
   "metadata": {},
   "outputs": [],
   "source": []
  },
  {
   "cell_type": "markdown",
   "id": "f1086744",
   "metadata": {},
   "source": [
    "## Maths"
   ]
  },
  {
   "cell_type": "markdown",
   "id": "a317e36f",
   "metadata": {},
   "source": [
    "### 027\n",
    "Ask the user to enter a\n",
    "number with lots of\n",
    "decimal places. Multiply\n",
    "this number by two and\n",
    "display the answer."
   ]
  },
  {
   "cell_type": "code",
   "execution_count": null,
   "id": "ba4728ca",
   "metadata": {},
   "outputs": [],
   "source": []
  },
  {
   "cell_type": "markdown",
   "id": "8617ad81",
   "metadata": {},
   "source": [
    "### 028\n",
    "Update program 027 so that it will display the answer to\n",
    "two decimal places."
   ]
  },
  {
   "cell_type": "code",
   "execution_count": null,
   "id": "eec9e868",
   "metadata": {},
   "outputs": [],
   "source": []
  },
  {
   "cell_type": "markdown",
   "id": "baf61d55",
   "metadata": {},
   "source": [
    "### 029\n",
    "Ask the user to enter an integer that is over 500. Work\n",
    "out the square root of that number and display it to two\n",
    "decimal places"
   ]
  },
  {
   "cell_type": "code",
   "execution_count": null,
   "id": "889958b0",
   "metadata": {},
   "outputs": [],
   "source": []
  },
  {
   "cell_type": "markdown",
   "id": "d7ea504f",
   "metadata": {},
   "source": [
    "### 030\n",
    "Display pi (π) to five\n",
    "decimal places."
   ]
  },
  {
   "cell_type": "code",
   "execution_count": null,
   "id": "1ff10fb3",
   "metadata": {},
   "outputs": [],
   "source": []
  },
  {
   "cell_type": "markdown",
   "id": "9e5c5c5b",
   "metadata": {},
   "source": [
    "### 031\n",
    "Ask the user to enter the radius of a circle\n",
    "(measurement from the centre point to the edge). Work\n",
    "out the area of the circle (π*radius 2 )."
   ]
  },
  {
   "cell_type": "code",
   "execution_count": null,
   "id": "b6739c8e",
   "metadata": {},
   "outputs": [],
   "source": []
  },
  {
   "cell_type": "markdown",
   "id": "5f0ff0a3",
   "metadata": {},
   "source": [
    "### 032\n",
    "Ask for the radius and the depth of a cylinder\n",
    "and work out the total volume (circle\n",
    "area*depth) rounded to three decimal\n",
    "places."
   ]
  },
  {
   "cell_type": "code",
   "execution_count": null,
   "id": "be99a408",
   "metadata": {},
   "outputs": [],
   "source": []
  },
  {
   "cell_type": "markdown",
   "id": "cf548282",
   "metadata": {},
   "source": [
    "### 033\n",
    "Ask the user to enter two numbers.\n",
    "Use whole number division to divide\n",
    "the first number by the second and\n",
    "also work out the remainder and\n",
    "display the answer in a user-friendly\n",
    "way (e.g. if they enter 7 and 2 display\n",
    "“7 divided by 2 i"
   ]
  },
  {
   "cell_type": "code",
   "execution_count": null,
   "id": "a66a022a",
   "metadata": {},
   "outputs": [],
   "source": []
  },
  {
   "cell_type": "markdown",
   "id": "36b5870e",
   "metadata": {},
   "source": [
    "### 034\n",
    "Display the following message:\n",
    "###### 1) Square\n",
    "###### 2) Triangle\n",
    "###### Enter a number:\n",
    "If the user enters 1, then it should ask them for\n",
    "the length of one of its sides and display the\n",
    "area. If they select 2, it should ask for the base\n",
    "and height of the triangle and display the area. If\n",
    "they type in anything else, it should give them a\n",
    "suitable error message."
   ]
  },
  {
   "cell_type": "code",
   "execution_count": null,
   "id": "770cb651",
   "metadata": {},
   "outputs": [],
   "source": []
  },
  {
   "cell_type": "markdown",
   "id": "e7b02c6b",
   "metadata": {},
   "source": [
    "## For Loop"
   ]
  },
  {
   "cell_type": "markdown",
   "id": "91ae660b",
   "metadata": {},
   "source": [
    "### 035\n",
    "Ask the user to enter\n",
    "their name and then\n",
    "display their name\n",
    "three times."
   ]
  },
  {
   "cell_type": "code",
   "execution_count": null,
   "id": "48036de8",
   "metadata": {},
   "outputs": [],
   "source": []
  },
  {
   "cell_type": "markdown",
   "id": "440b8c45",
   "metadata": {},
   "source": [
    "### 036\n",
    "Alter program 035 so that it will ask the user to enter their\n",
    "name and a number and then display their name that\n",
    "number of times"
   ]
  },
  {
   "cell_type": "code",
   "execution_count": null,
   "id": "fbb7f85a",
   "metadata": {},
   "outputs": [],
   "source": []
  },
  {
   "cell_type": "markdown",
   "id": "b734bec0",
   "metadata": {},
   "source": [
    "### 037\n",
    "Ask the user to enter their name and display each letter in\n",
    "their name on a separate line."
   ]
  },
  {
   "cell_type": "code",
   "execution_count": null,
   "id": "7e034647",
   "metadata": {},
   "outputs": [],
   "source": []
  },
  {
   "cell_type": "markdown",
   "id": "f3f37d0b",
   "metadata": {},
   "source": [
    "### 038\n",
    "Change program\n",
    "037 to also ask for a\n",
    "number. Display\n",
    "their name (one\n",
    "letter at a time on\n",
    "each line) and\n",
    "repeat this for the\n",
    "number of times\n",
    "they entered."
   ]
  },
  {
   "cell_type": "code",
   "execution_count": null,
   "id": "d196aee2",
   "metadata": {},
   "outputs": [],
   "source": []
  },
  {
   "cell_type": "markdown",
   "id": "1800f6ee",
   "metadata": {},
   "source": [
    "### 039\n",
    "Ask the user to enter a number between 1\n",
    "and 12 and then display the times table for\n",
    "that number."
   ]
  },
  {
   "cell_type": "code",
   "execution_count": null,
   "id": "efd4e66c",
   "metadata": {},
   "outputs": [],
   "source": []
  },
  {
   "cell_type": "markdown",
   "id": "5fa3f9a2",
   "metadata": {},
   "source": [
    "### 040\n",
    "Ask for a number below 50 and then count down from\n",
    "50 to that number, making sure you show the number\n",
    "they entered in the output."
   ]
  },
  {
   "cell_type": "code",
   "execution_count": null,
   "id": "250d904a",
   "metadata": {},
   "outputs": [],
   "source": []
  },
  {
   "cell_type": "markdown",
   "id": "27a68f8f",
   "metadata": {},
   "source": [
    "### 041\n",
    "Ask the user to enter their\n",
    "name and a number. If the\n",
    "number is less than 10, then\n",
    "display their name that\n",
    "number of times; otherwise\n",
    "display the message “Too\n",
    "high” three times."
   ]
  },
  {
   "cell_type": "code",
   "execution_count": null,
   "id": "5db886b9",
   "metadata": {},
   "outputs": [],
   "source": []
  },
  {
   "cell_type": "markdown",
   "id": "2941ade6",
   "metadata": {},
   "source": [
    "### 042\n",
    "Set a variable called total to 0. Ask the user to enter\n",
    "five numbers and after each input ask them if they\n",
    "want that number included. If they do, then add the\n",
    "number to the total. If they do not want it included,\n",
    "don’t add it to the total. After they have entered all five\n",
    "numbers, display the total."
   ]
  },
  {
   "cell_type": "code",
   "execution_count": null,
   "id": "f70ea429",
   "metadata": {},
   "outputs": [],
   "source": []
  },
  {
   "cell_type": "markdown",
   "id": "ea07c6ad",
   "metadata": {},
   "source": [
    "### 043\n",
    "Ask which direction the user wants to count (up or down). If they select up, then ask\n",
    "them for the top number and then count from 1 to that number. If they select down, ask\n",
    "them to enter a number below 20 and then count down from 20 to that number. If they\n",
    "entered something other than up or down, display the message “I don’t understand”."
   ]
  },
  {
   "cell_type": "code",
   "execution_count": null,
   "id": "77d02563",
   "metadata": {},
   "outputs": [],
   "source": []
  },
  {
   "cell_type": "markdown",
   "id": "a6f679f0",
   "metadata": {},
   "source": [
    "### 044\n",
    "Ask how many people the user wants to invite to a party. If they enter a number below\n",
    "10, ask for the names and after each name display “[name] has been invited”. If they\n",
    "enter a number which is 10 or higher, display the message “Too many people”."
   ]
  },
  {
   "cell_type": "code",
   "execution_count": null,
   "id": "06cea626",
   "metadata": {},
   "outputs": [],
   "source": []
  },
  {
   "cell_type": "markdown",
   "id": "8c26c07f",
   "metadata": {},
   "source": [
    "## While Loop"
   ]
  },
  {
   "cell_type": "markdown",
   "id": "28c58f29",
   "metadata": {},
   "source": [
    "### 045\n",
    "Set the total to 0 to start with. While the total is 50 or less, ask\n",
    "the user to input a number. Add that number to the total and\n",
    "print the message “The total is… [total]”. Stop the loop when\n",
    "the total is over 50 ."
   ]
  },
  {
   "cell_type": "code",
   "execution_count": null,
   "id": "1144dc26",
   "metadata": {},
   "outputs": [],
   "source": []
  },
  {
   "cell_type": "markdown",
   "id": "88b2f4f3",
   "metadata": {},
   "source": [
    "### 046\n",
    "Ask the user to enter\n",
    "a number. Keep\n",
    "asking until they enter\n",
    "a value over 5 and\n",
    "then display the\n",
    "message “The last\n",
    "number you entered\n",
    "was a [number]” and\n",
    "stop the program."
   ]
  },
  {
   "cell_type": "code",
   "execution_count": null,
   "id": "567a39b4",
   "metadata": {},
   "outputs": [],
   "source": []
  },
  {
   "cell_type": "markdown",
   "id": "ad9c4ee7",
   "metadata": {},
   "source": [
    "### 047\n",
    "Ask the user to enter a\n",
    "number and then enter\n",
    "another number. Add these\n",
    "two numbers together and\n",
    "then ask if they want to add\n",
    "another number. If they\n",
    "enter “y\", ask them to enter\n",
    "another number and keep\n",
    "adding numbers until they\n",
    "do not answer “y”. Once the\n",
    "loop has stopped, display\n",
    "the total."
   ]
  },
  {
   "cell_type": "code",
   "execution_count": null,
   "id": "82e1ea3a",
   "metadata": {},
   "outputs": [],
   "source": []
  },
  {
   "cell_type": "markdown",
   "id": "cae228e3",
   "metadata": {},
   "source": [
    "### 048\n",
    "Ask for the name of somebody the user wants to invite\n",
    "to a party. After this, display the message “[name] has\n",
    "now been invited” and add 1 to the count. Then ask if\n",
    "they want to invite somebody else. Keep repeating this\n",
    "until they no longer want to invite anyone else to the\n",
    "party and then display how many people they have\n",
    "coming to the party."
   ]
  },
  {
   "cell_type": "code",
   "execution_count": null,
   "id": "df0b2ecb",
   "metadata": {},
   "outputs": [],
   "source": []
  },
  {
   "cell_type": "markdown",
   "id": "c36a27f4",
   "metadata": {},
   "source": [
    "### 049\n",
    "Create a variable called\n",
    "compnum and set the value\n",
    "to 50. Ask the user to enter a\n",
    "number. While their guess\n",
    "is not the same as the\n",
    "compnum value, tell them if\n",
    "their guess is too low or too\n",
    "high and ask them to have\n",
    "another guess. If they enter\n",
    "the same value as\n",
    "compnum, display the\n",
    "message “Well done, you\n",
    "took [count] attempts”."
   ]
  },
  {
   "cell_type": "code",
   "execution_count": null,
   "id": "bea9ca17",
   "metadata": {},
   "outputs": [],
   "source": []
  },
  {
   "cell_type": "markdown",
   "id": "8764eb5e",
   "metadata": {},
   "source": [
    "### 050\n",
    "Ask the user to enter a number between\n",
    "10 and 20. If they enter a value under 10,\n",
    "display the message “Too low” and ask\n",
    "them to try again. If they enter a value\n",
    "above 20, display the message “Too high”\n",
    "and ask them to try again. Keep repeating\n",
    "this until they enter a value that is\n",
    "between 10 and 20 and then display the\n",
    "message “Thank you”."
   ]
  },
  {
   "cell_type": "code",
   "execution_count": null,
   "id": "a4a25534",
   "metadata": {},
   "outputs": [],
   "source": []
  },
  {
   "cell_type": "markdown",
   "id": "6a9456fe",
   "metadata": {},
   "source": [
    "### 051\n",
    "Using the song “10 green bottles”, display the lines “There are [num] green bottles\n",
    "hanging on the wall, [num] green bottles hanging on the wall, and if 1 green bottle\n",
    "should accidentally fall”. Then ask the question “how many green bottles will be\n",
    "hanging on the wall?” If the user answers correctly, display the message “There will be\n",
    "[num] green bottles hanging on the wall”. If they answer incorrectly, display the\n",
    "message “No, try again” until they get it right. When the number of green bottles gets\n",
    "down to 0, display the message “There are no more green bottles hanging on the wall”."
   ]
  },
  {
   "cell_type": "code",
   "execution_count": null,
   "id": "5d40b5d0",
   "metadata": {},
   "outputs": [],
   "source": []
  },
  {
   "cell_type": "markdown",
   "id": "3737ba90",
   "metadata": {},
   "source": [
    "## Random"
   ]
  },
  {
   "cell_type": "markdown",
   "id": "c83f3d9d",
   "metadata": {},
   "source": [
    "### 052\n",
    "Display a\n",
    "random\n",
    "integer\n",
    "between\n",
    "1 and 100\n",
    "inclusive."
   ]
  },
  {
   "cell_type": "code",
   "execution_count": null,
   "id": "b97bd051",
   "metadata": {},
   "outputs": [],
   "source": []
  },
  {
   "cell_type": "markdown",
   "id": "657c7da2",
   "metadata": {},
   "source": [
    "### 053\n",
    "Display a\n",
    "random\n",
    "fruit from\n",
    "a list of\n",
    "five fruits."
   ]
  },
  {
   "cell_type": "code",
   "execution_count": null,
   "id": "79f6a359",
   "metadata": {},
   "outputs": [],
   "source": []
  },
  {
   "cell_type": "markdown",
   "id": "854d5a3a",
   "metadata": {},
   "source": [
    "### 054\n",
    "Randomly choose either heads or tails (“h” or “t”). Ask\n",
    "the user to make their choice. If their choice is the same\n",
    "as the randomly selected value, display the message\n",
    "“You win”, otherwise display “Bad luck”. At the end, tell\n",
    "the user if the computer selected heads or tails."
   ]
  },
  {
   "cell_type": "code",
   "execution_count": null,
   "id": "8467674a",
   "metadata": {},
   "outputs": [],
   "source": []
  },
  {
   "cell_type": "markdown",
   "id": "fa5da35e",
   "metadata": {},
   "source": [
    "### 055\n",
    "\n",
    "Randomly choose a number between 1 and 5. Ask the user to pick a\n",
    "number. If they guess correctly, display the message “Well done”,\n",
    "otherwise tell them if they are too high or too low and ask them to pick a\n",
    "second number. If they guess correctly on their second guess, display\n",
    "“Correct”, otherwise display “You lose”."
   ]
  },
  {
   "cell_type": "code",
   "execution_count": null,
   "id": "e112294c",
   "metadata": {},
   "outputs": [],
   "source": []
  },
  {
   "cell_type": "markdown",
   "id": "4c6fe164",
   "metadata": {},
   "source": [
    "### 056\n",
    "Randomly pick a whole number between 1\n",
    "and 10. Ask the user to enter a number and\n",
    "keep entering numbers until they enter the\n",
    "number that was randomly picked."
   ]
  },
  {
   "cell_type": "code",
   "execution_count": null,
   "id": "bc217c12",
   "metadata": {},
   "outputs": [],
   "source": []
  },
  {
   "cell_type": "markdown",
   "id": "b2616fd7",
   "metadata": {},
   "source": [
    "### 057\n",
    "Update\n",
    "program 056\n",
    "so that it\n",
    "tells the\n",
    "user if they\n",
    "are too high\n",
    "or too low\n",
    "before they\n",
    "pick again."
   ]
  },
  {
   "cell_type": "code",
   "execution_count": null,
   "id": "54a7d1e0",
   "metadata": {},
   "outputs": [],
   "source": []
  },
  {
   "cell_type": "markdown",
   "id": "19568c78",
   "metadata": {},
   "source": [
    "### 058\n",
    "Make a maths quiz that asks five questions by randomly\n",
    "generating two whole numbers to make the question\n",
    "(e.g. [num1] + [num2]). Ask the user to enter the\n",
    "answer. If they get it right add a point to their score. At\n",
    "the end of the quiz, tell them how many they got correct\n",
    "out of five."
   ]
  },
  {
   "cell_type": "code",
   "execution_count": null,
   "id": "80571697",
   "metadata": {},
   "outputs": [],
   "source": []
  },
  {
   "cell_type": "markdown",
   "id": "5192a8c0",
   "metadata": {},
   "source": [
    "### 059\n",
    "Display five colours and ask the user to pick one. If they\n",
    "pick the same as the program has chosen, say “Well\n",
    "done”, otherwise display a witty answer which involves\n",
    "the correct colour, e.g. “I bet you are GREEN with envy”\n",
    "or “You are probably feeling BLUE right now”. Ask\n",
    "them to guess again; if they have still not got it right,\n",
    "keep giving them the same clue and ask the user to\n",
    "enter a colour until they guess it correctly."
   ]
  },
  {
   "cell_type": "code",
   "execution_count": null,
   "id": "9553ec4d",
   "metadata": {},
   "outputs": [],
   "source": []
  },
  {
   "cell_type": "markdown",
   "id": "aa83a427",
   "metadata": {},
   "source": [
    "## Turtle Graphics"
   ]
  },
  {
   "cell_type": "markdown",
   "id": "542ce52d",
   "metadata": {},
   "source": [
    "### 060\n",
    "Draw a square."
   ]
  },
  {
   "cell_type": "code",
   "execution_count": null,
   "id": "abcc1618",
   "metadata": {},
   "outputs": [],
   "source": []
  },
  {
   "cell_type": "markdown",
   "id": "e9e4dcd3",
   "metadata": {},
   "source": [
    "### 061\n",
    "Draw a triangle."
   ]
  },
  {
   "cell_type": "code",
   "execution_count": null,
   "id": "8ff9e9a2",
   "metadata": {},
   "outputs": [],
   "source": []
  },
  {
   "cell_type": "markdown",
   "id": "53504985",
   "metadata": {},
   "source": [
    "### 062\n",
    "Draw a circle."
   ]
  },
  {
   "cell_type": "code",
   "execution_count": null,
   "id": "2455d557",
   "metadata": {},
   "outputs": [],
   "source": []
  },
  {
   "cell_type": "markdown",
   "id": "488e49a0",
   "metadata": {},
   "source": [
    "### 063\n",
    "Draw three squares\n",
    "in a row with a gap\n",
    "between each. Fill\n",
    "them using three\n",
    "different colours."
   ]
  },
  {
   "cell_type": "code",
   "execution_count": null,
   "id": "a062ff08",
   "metadata": {},
   "outputs": [],
   "source": []
  },
  {
   "cell_type": "markdown",
   "id": "79e8a736",
   "metadata": {},
   "source": [
    "### 064\n",
    "Draw a five-pointed\n",
    "star."
   ]
  },
  {
   "cell_type": "code",
   "execution_count": null,
   "id": "2e202b5d",
   "metadata": {},
   "outputs": [],
   "source": []
  },
  {
   "cell_type": "markdown",
   "id": "05ea8f3f",
   "metadata": {},
   "source": [
    "### 065\n",
    "Write the numbers as shown below,\n",
    "starting at the bottom of the number\n",
    "one. (1, 2, 3 as in digital digit)"
   ]
  },
  {
   "cell_type": "code",
   "execution_count": null,
   "id": "b7574191",
   "metadata": {},
   "outputs": [],
   "source": []
  },
  {
   "cell_type": "markdown",
   "id": "8ee1b37d",
   "metadata": {},
   "source": [
    "### 066\n",
    "Draw an octagon that uses a different colour (randomly\n",
    "selected from a list of six possible colours) for each line."
   ]
  },
  {
   "cell_type": "code",
   "execution_count": null,
   "id": "ccf4a204",
   "metadata": {},
   "outputs": [],
   "source": []
  },
  {
   "cell_type": "markdown",
   "id": "23bf22b5",
   "metadata": {},
   "source": [
    "### 067\n",
    "Create the following pattern:"
   ]
  },
  {
   "cell_type": "code",
   "execution_count": null,
   "id": "3cf07532",
   "metadata": {},
   "outputs": [],
   "source": []
  },
  {
   "cell_type": "markdown",
   "id": "b4ce12a1",
   "metadata": {},
   "source": [
    "### 068\n",
    "\n",
    "Draw a pattern that will change each time the\n",
    "program is run. Use the random function to pick\n",
    "the number of lines, the length of each line and\n",
    "the angle of each turn."
   ]
  },
  {
   "cell_type": "code",
   "execution_count": null,
   "id": "daa32370",
   "metadata": {},
   "outputs": [],
   "source": []
  },
  {
   "cell_type": "markdown",
   "id": "f223a812",
   "metadata": {},
   "source": [
    "## Tuples, Lists and Dictionaries"
   ]
  },
  {
   "cell_type": "markdown",
   "id": "efa34c88",
   "metadata": {},
   "source": [
    "### 069\n",
    "Create a tuple containing the names of five countries and display the whole tuple. Ask\n",
    "the user to enter one of the countries that have been shown to them and then display\n",
    "the index number (i.e. position in the list) of that item in the tuple."
   ]
  },
  {
   "cell_type": "code",
   "execution_count": null,
   "id": "7ad3ab19",
   "metadata": {},
   "outputs": [],
   "source": []
  },
  {
   "cell_type": "markdown",
   "id": "788186ed",
   "metadata": {},
   "source": [
    "### 070\n",
    "Add to program 069 to ask the\n",
    "user to enter a number and\n",
    "display the country in that\n",
    "position."
   ]
  },
  {
   "cell_type": "code",
   "execution_count": null,
   "id": "7e78abfd",
   "metadata": {},
   "outputs": [],
   "source": [
    "\n"
   ]
  },
  {
   "cell_type": "markdown",
   "id": "5b6d5e68",
   "metadata": {},
   "source": [
    "### 071\n",
    "Create a list of two sports. Ask the\n",
    "user what their favourite sport is and\n",
    "add this to the end of the list. Sort the\n",
    "list and display it."
   ]
  },
  {
   "cell_type": "code",
   "execution_count": null,
   "id": "4b834c3f",
   "metadata": {},
   "outputs": [],
   "source": []
  },
  {
   "cell_type": "markdown",
   "id": "24c78934",
   "metadata": {},
   "source": [
    "### 072\n",
    "Create a list of six school subjects. Ask the user which of these\n",
    "subjects they don’t like. Delete the subject they have chosen from the\n",
    "list before you display the list again."
   ]
  },
  {
   "cell_type": "code",
   "execution_count": null,
   "id": "804f1210",
   "metadata": {},
   "outputs": [],
   "source": []
  },
  {
   "cell_type": "markdown",
   "id": "5cbb9838",
   "metadata": {},
   "source": [
    "### 073\n",
    "Ask the user to\n",
    "enter four of their\n",
    "favourite foods\n",
    "and store them in\n",
    "a dictionary so\n",
    "that they are\n",
    "indexed with\n",
    "numbers starting\n",
    "from 1. Display\n",
    "the dictionary in\n",
    "full, showing the\n",
    "index number\n",
    "and the item. Ask\n",
    "them which they\n",
    "want to get rid of\n",
    "and remove it\n",
    "from the list. Sort\n",
    "the remaining\n",
    "data and display\n",
    "the dictionary."
   ]
  },
  {
   "cell_type": "code",
   "execution_count": null,
   "id": "bbbbee18",
   "metadata": {},
   "outputs": [],
   "source": []
  },
  {
   "cell_type": "markdown",
   "id": "1b6b2993",
   "metadata": {},
   "source": [
    "### 074\n",
    "Enter a list of ten colours.\n",
    "Ask the user for a starting\n",
    "number between 0 and 4\n",
    "and an end number\n",
    "between 5 and 9. Display\n",
    "the list for those colours\n",
    "between the start and end\n",
    "numbers the user input."
   ]
  },
  {
   "cell_type": "code",
   "execution_count": null,
   "id": "46f86d1e",
   "metadata": {},
   "outputs": [],
   "source": []
  },
  {
   "cell_type": "markdown",
   "id": "4df2cb27",
   "metadata": {},
   "source": [
    "### 075\n",
    "Create a list of four three-digit\n",
    "numbers. Display the list to the\n",
    "user, showing each item from\n",
    "the list on a separate line. Ask\n",
    "the user to enter a three-digit\n",
    "number. If the number they\n",
    "have typed in matches one in\n",
    "the list, display the position of\n",
    "that number in the list,\n",
    "otherwise display the message\n",
    "“That is not in the list”."
   ]
  },
  {
   "cell_type": "code",
   "execution_count": null,
   "id": "b948d758",
   "metadata": {},
   "outputs": [],
   "source": []
  },
  {
   "cell_type": "markdown",
   "id": "273a40a5",
   "metadata": {},
   "source": [
    "### 076\n",
    "Ask the user to enter the names of three people they want to\n",
    "invite to a party and store them in a list. After they have entered\n",
    "all three names, ask them if they want to add another. If they do,\n",
    "allow them to add more names until they answer “no”. When\n",
    "they answer “no”, display how many people they have invited to\n",
    "the party."
   ]
  },
  {
   "cell_type": "code",
   "execution_count": null,
   "id": "1062f40b",
   "metadata": {},
   "outputs": [],
   "source": []
  },
  {
   "cell_type": "markdown",
   "id": "dc8c2bb7",
   "metadata": {},
   "source": [
    "### 077\n",
    "Change program 076 so that once the user has completed their list of names, display the\n",
    "full list and ask them to type in one of the names on the list. Display the position of that\n",
    "name in the list. Ask the user if they still want that person to come to the party. If they\n",
    "answer “no”, delete that entry from the list and display the list again."
   ]
  },
  {
   "cell_type": "code",
   "execution_count": null,
   "id": "a6a095ea",
   "metadata": {},
   "outputs": [],
   "source": []
  },
  {
   "cell_type": "markdown",
   "id": "83d62849",
   "metadata": {},
   "source": [
    "### 078\n",
    "Create a list containing the titles of\n",
    "four TV programmes and display\n",
    "them on separate lines. Ask the\n",
    "user to enter another show and a\n",
    "position they want it inserted into\n",
    "the list. Display the list again,\n",
    "showing all five TV programmes in\n",
    "their new positions."
   ]
  },
  {
   "cell_type": "code",
   "execution_count": null,
   "id": "ea601a1d",
   "metadata": {},
   "outputs": [],
   "source": []
  },
  {
   "cell_type": "markdown",
   "id": "8458a3cc",
   "metadata": {},
   "source": [
    "### 079\n",
    "\n",
    "Create an empty list called “nums”.\n",
    "Ask the user to enter numbers.\n",
    "After each number is entered, add\n",
    "it to the end of the nums list and\n",
    "display the list. Once they have\n",
    "entered three numbers, ask them if\n",
    "they still want the last number they\n",
    "entered saved. If they say “no”,\n",
    "remove the last item from the list.\n",
    "Display the list of numbers."
   ]
  },
  {
   "cell_type": "code",
   "execution_count": null,
   "id": "49829c5f",
   "metadata": {},
   "outputs": [],
   "source": []
  },
  {
   "cell_type": "markdown",
   "id": "6cdbe5d4",
   "metadata": {},
   "source": [
    "## More String Manipulation"
   ]
  },
  {
   "cell_type": "markdown",
   "id": "2d59c766",
   "metadata": {},
   "source": [
    "### 080\n",
    "Ask the user to enter their\n",
    "first name and then display\n",
    "the length of their first name.\n",
    "Then ask for their surname\n",
    "and display the length of\n",
    "their surname. Join their first\n",
    "name and surname together\n",
    "with a space between and\n",
    "display the result. Finally,\n",
    "display the length of their full\n",
    "name (including the space)."
   ]
  },
  {
   "cell_type": "code",
   "execution_count": null,
   "id": "d93a7eaa",
   "metadata": {},
   "outputs": [],
   "source": []
  },
  {
   "cell_type": "markdown",
   "id": "8d1b07de",
   "metadata": {},
   "source": [
    "### 081\n",
    "Ask the user to type in their favourite school subject.\n",
    "Display it with “-” after each letter, e.g. S-p-a-n-i-s-h-."
   ]
  },
  {
   "cell_type": "code",
   "execution_count": null,
   "id": "3666b55c",
   "metadata": {},
   "outputs": [],
   "source": []
  },
  {
   "cell_type": "markdown",
   "id": "465b684e",
   "metadata": {},
   "source": [
    "### 082\n",
    "Show the user a line of text from your favourite poem\n",
    "and ask for a starting and ending point. Display the\n",
    "characters between those two points."
   ]
  },
  {
   "cell_type": "code",
   "execution_count": null,
   "id": "7c3f1e4c",
   "metadata": {},
   "outputs": [],
   "source": []
  },
  {
   "cell_type": "markdown",
   "id": "cbf03a36",
   "metadata": {},
   "source": [
    "### 083\n",
    "Ask the user to type in a word in upper case. If they\n",
    "type it in lower case, ask them to try again. Keep\n",
    "repeating this until they type in a message all in\n",
    "uppercase."
   ]
  },
  {
   "cell_type": "code",
   "execution_count": null,
   "id": "8802fd03",
   "metadata": {},
   "outputs": [],
   "source": []
  },
  {
   "cell_type": "markdown",
   "id": "66d31671",
   "metadata": {},
   "source": [
    "### 084\n",
    "Ask the user to type in their\n",
    "postcode. Display the first\n",
    "two letters in uppercase."
   ]
  },
  {
   "cell_type": "code",
   "execution_count": null,
   "id": "db579f09",
   "metadata": {},
   "outputs": [],
   "source": []
  },
  {
   "cell_type": "markdown",
   "id": "44b563dc",
   "metadata": {},
   "source": [
    "### 085\n",
    "Ask the user to type in their name\n",
    "and then tell them how many vowels\n",
    "are in their name"
   ]
  },
  {
   "cell_type": "code",
   "execution_count": null,
   "id": "ddf6badb",
   "metadata": {},
   "outputs": [],
   "source": []
  },
  {
   "cell_type": "markdown",
   "id": "5d346184",
   "metadata": {},
   "source": [
    "### 087\n",
    "Ask the user to enter a new password. Ask\n",
    "them to enter it again. If the two passwords\n",
    "match, display “Thank you”. If the letters are\n",
    "correct but in the wrong case, display the\n",
    "message “They must be in the same case”,\n",
    "otherwise display the message “Incorrect”."
   ]
  },
  {
   "cell_type": "code",
   "execution_count": null,
   "id": "16adb899",
   "metadata": {},
   "outputs": [],
   "source": []
  },
  {
   "cell_type": "markdown",
   "id": "e19c39a7",
   "metadata": {},
   "source": [
    "### 087\n",
    "Ask the user to type in a word and then\n",
    "display it backwards on separate lines. For\n",
    "instance, if they type in “Hello” it should\n",
    "display as shown below:\n",
    "###### Enter a word: Hello\n",
    "###### o\n",
    "###### l\n",
    "###### l\n",
    "###### e\n",
    "###### H"
   ]
  },
  {
   "cell_type": "code",
   "execution_count": null,
   "id": "42635b0a",
   "metadata": {},
   "outputs": [],
   "source": []
  },
  {
   "cell_type": "markdown",
   "id": "2f9bb843",
   "metadata": {},
   "source": [
    "## Numeric Arrays"
   ]
  },
  {
   "cell_type": "markdown",
   "id": "293d56f6",
   "metadata": {},
   "source": [
    "### 088\n",
    "Ask the user for a list of five\n",
    "integers. Store them in an array.\n",
    "Sort the list and display it in\n",
    "reverse order."
   ]
  },
  {
   "cell_type": "code",
   "execution_count": null,
   "id": "7d954ab1",
   "metadata": {},
   "outputs": [],
   "source": []
  },
  {
   "cell_type": "markdown",
   "id": "f0307152",
   "metadata": {},
   "source": [
    "### 089\n",
    "Create an array which will store a list of integers.\n",
    "Generate five random numbers and store them in\n",
    "the array. Display the array (showing each item on\n",
    "a separate line)."
   ]
  },
  {
   "cell_type": "code",
   "execution_count": null,
   "id": "4d058c10",
   "metadata": {},
   "outputs": [],
   "source": []
  },
  {
   "cell_type": "markdown",
   "id": "622cab62",
   "metadata": {},
   "source": [
    "### 090\n",
    "\n",
    "Ask the user to enter numbers. If they enter a\n",
    "number between 10 and 20, save it in the array,\n",
    "otherwise display the message “Outside the\n",
    "range”. Once five numbers have been\n",
    "successfully added, display the message “Thank\n",
    "you” and display the array with each item shown\n",
    "on a separate line."
   ]
  },
  {
   "cell_type": "code",
   "execution_count": null,
   "id": "cd1a972b",
   "metadata": {},
   "outputs": [],
   "source": []
  },
  {
   "cell_type": "markdown",
   "id": "813eb074",
   "metadata": {},
   "source": [
    "### 091\n",
    "Create an array which contains\n",
    "five numbers (two of which\n",
    "should be repeated). Display\n",
    "the whole array to the user. Ask\n",
    "the user to enter one of the\n",
    "numbers from the array and\n",
    "then display a message saying\n",
    "how many times that number\n",
    "appears in the list."
   ]
  },
  {
   "cell_type": "code",
   "execution_count": null,
   "id": "8d4e41d0",
   "metadata": {},
   "outputs": [],
   "source": []
  },
  {
   "cell_type": "markdown",
   "id": "74f2b72a",
   "metadata": {},
   "source": [
    "### 092\n",
    "Create two arrays (one\n",
    "containing three numbers that\n",
    "the user enters and one\n",
    "containing a set of five random\n",
    "numbers). Join these two arrays\n",
    "together into one large array.\n",
    "Sort this large array and display\n",
    "it so that each number appears\n",
    "on a separate line."
   ]
  },
  {
   "cell_type": "code",
   "execution_count": null,
   "id": "cdd55a54",
   "metadata": {},
   "outputs": [],
   "source": []
  },
  {
   "cell_type": "markdown",
   "id": "01fba05d",
   "metadata": {},
   "source": [
    "### 093\n",
    "Ask the user to enter five\n",
    "numbers. Sort them into order\n",
    "and present them to the user.\n",
    "Ask them to select one of the\n",
    "numbers. Remove it from the\n",
    "original array and save it in a\n",
    "new array.\n"
   ]
  },
  {
   "cell_type": "code",
   "execution_count": null,
   "id": "275f1f7f",
   "metadata": {},
   "outputs": [],
   "source": []
  },
  {
   "cell_type": "markdown",
   "id": "95f51cff",
   "metadata": {},
   "source": [
    "### 094\n",
    "Display an array of five\n",
    "numbers. Ask the user to\n",
    "select one of the numbers.\n",
    "Once they have selected a\n",
    "number, display the\n",
    "position of that item in the\n",
    "array. If they enter\n",
    "something that is not in\n",
    "the array, ask them to try\n",
    "again until they select a\n",
    "relevant item."
   ]
  },
  {
   "cell_type": "code",
   "execution_count": null,
   "id": "78dfa7ae",
   "metadata": {},
   "outputs": [],
   "source": []
  },
  {
   "cell_type": "markdown",
   "id": "9e08cb05",
   "metadata": {},
   "source": [
    "### 095\n",
    "Create an array of five numbers\n",
    "between 10 and 100 which each have\n",
    "two decimal places. Ask the user to\n",
    "enter a whole number between 2 and 5.\n",
    "If they enter something outside of that\n",
    "range, display a suitable error message\n",
    "and ask them to try again until they\n",
    "enter a valid amount. Divide each of the\n",
    "numbers in the array by the number the\n",
    "user entered and display the answers\n",
    "shown to two decimal places."
   ]
  },
  {
   "cell_type": "code",
   "execution_count": null,
   "id": "ec4b43a2",
   "metadata": {},
   "outputs": [],
   "source": []
  },
  {
   "cell_type": "markdown",
   "id": "945a99fd",
   "metadata": {},
   "source": [
    "## 2D Lists and Dictionaries"
   ]
  },
  {
   "cell_type": "markdown",
   "id": "769128e4",
   "metadata": {},
   "source": [
    "### 096\n",
    "\n",
    "Create the following using a\n",
    "simple 2D list using the\n",
    "standard Python indexing:"
   ]
  },
  {
   "cell_type": "code",
   "execution_count": null,
   "id": "831de347",
   "metadata": {},
   "outputs": [],
   "source": []
  },
  {
   "cell_type": "markdown",
   "id": "9fc3efa0",
   "metadata": {},
   "source": [
    "### 097\n",
    "Using the 2D list from program 096, ask the user to\n",
    "select a row and a column and display that value."
   ]
  },
  {
   "cell_type": "code",
   "execution_count": null,
   "id": "b6046547",
   "metadata": {},
   "outputs": [],
   "source": []
  },
  {
   "cell_type": "markdown",
   "id": "c681dc4f",
   "metadata": {},
   "source": [
    "### 098\n",
    "Using the 2D list from program 096, ask the user\n",
    "which row they would like displayed and display\n",
    "just that row. Ask them to enter a new value and\n",
    "add it to the end of the row and display the row\n",
    "again."
   ]
  },
  {
   "cell_type": "code",
   "execution_count": null,
   "id": "d5322943",
   "metadata": {},
   "outputs": [],
   "source": []
  },
  {
   "cell_type": "markdown",
   "id": "c764cc86",
   "metadata": {},
   "source": [
    "### 099\n",
    "Change your previous program\n",
    "to ask the user which row they\n",
    "want displayed. Display that\n",
    "row. Ask which column in that\n",
    "row they want displayed and\n",
    "display the value that is held\n",
    "there. Ask the user if they want\n",
    "to change the value. If they do,\n",
    "ask for a new value and change\n",
    "the data. Finally, display the\n",
    "whole row again."
   ]
  },
  {
   "cell_type": "code",
   "execution_count": null,
   "id": "4efd6cac",
   "metadata": {},
   "outputs": [],
   "source": []
  },
  {
   "cell_type": "markdown",
   "id": "634f9612",
   "metadata": {},
   "source": [
    "### 100\n",
    "\n",
    "Create the following using a 2D dictionary showing\n",
    "the sales each person has made in the different\n",
    "geographical regions:"
   ]
  },
  {
   "cell_type": "code",
   "execution_count": null,
   "id": "62396ef5",
   "metadata": {},
   "outputs": [],
   "source": []
  },
  {
   "cell_type": "markdown",
   "id": "b0cea601",
   "metadata": {},
   "source": [
    "### 101\n",
    "\n",
    "Using program 100, ask the user for a name and a region. Display the relevant data. Ask\n",
    "the user for the name and region of data they want to change and allow them to make\n",
    "the alteration to the sales figure. Display the sales for all regions for the name they\n",
    "choose."
   ]
  },
  {
   "cell_type": "code",
   "execution_count": null,
   "id": "7c39da28",
   "metadata": {},
   "outputs": [],
   "source": []
  },
  {
   "cell_type": "markdown",
   "id": "62049d00",
   "metadata": {},
   "source": [
    "### 102\n",
    "Ask the user to enter the name, age and shoe size for four\n",
    "people. Ask for the name of one of the people in the list and\n",
    "display their age and shoe size."
   ]
  },
  {
   "cell_type": "code",
   "execution_count": null,
   "id": "d3cacda7",
   "metadata": {},
   "outputs": [],
   "source": []
  },
  {
   "cell_type": "markdown",
   "id": "defb3230",
   "metadata": {},
   "source": [
    "### 103\n",
    "Adapt program 102\n",
    "to display the\n",
    "names and ages of\n",
    "all the people in\n",
    "the list but do not\n",
    "show their shoe\n",
    "size."
   ]
  },
  {
   "cell_type": "code",
   "execution_count": null,
   "id": "42ff8fad",
   "metadata": {},
   "outputs": [],
   "source": []
  },
  {
   "cell_type": "markdown",
   "id": "18a7bbf3",
   "metadata": {},
   "source": [
    "### 104\n",
    "\n",
    "After gathering the four names, ages and shoe sizes, ask the\n",
    "user to enter the name of the person they want to remove from\n",
    "the list. Delete this row from the data and display the other rows\n",
    "on separate lines."
   ]
  },
  {
   "cell_type": "code",
   "execution_count": null,
   "id": "c9e722b2",
   "metadata": {},
   "outputs": [],
   "source": []
  },
  {
   "cell_type": "markdown",
   "id": "b61c205d",
   "metadata": {},
   "source": [
    "## Reading and Writing to a Text File"
   ]
  },
  {
   "cell_type": "markdown",
   "id": "bbee55ba",
   "metadata": {},
   "source": [
    "### 105\n",
    "Write a new file\n",
    "called\n",
    "“Numbers.txt”.\n",
    "Add five numbers\n",
    "to the document\n",
    "which are stored\n",
    "on the same line\n",
    "and only\n",
    "separated by a\n",
    "comma. Once you\n",
    "have run the\n",
    "program, look in\n",
    "the location where\n",
    "your program is\n",
    "stored and you\n",
    "should see that\n",
    "the file has been\n",
    "created. The\n",
    "easiest way to\n",
    "view the contents\n",
    "of the new text file\n",
    "on a Windows\n",
    "system is to read it\n",
    "using Notepad."
   ]
  },
  {
   "cell_type": "code",
   "execution_count": null,
   "id": "57a2f79b",
   "metadata": {},
   "outputs": [],
   "source": []
  },
  {
   "cell_type": "markdown",
   "id": "93eedaf4",
   "metadata": {},
   "source": [
    "### 106\n",
    "Create a new file called “Names.txt”. Add five names to the\n",
    "document, which are stored on separate lines. Once you have\n",
    "run the program, look in the location where your program is\n",
    "stored and check that the file has been created properly."
   ]
  },
  {
   "cell_type": "code",
   "execution_count": null,
   "id": "26e11bb4",
   "metadata": {},
   "outputs": [],
   "source": []
  },
  {
   "cell_type": "markdown",
   "id": "d6365576",
   "metadata": {},
   "source": [
    "### 107\n",
    "Open the\n",
    "Names.txt\n",
    "file and\n",
    "display\n",
    "the data\n",
    "in Python."
   ]
  },
  {
   "cell_type": "code",
   "execution_count": null,
   "id": "6cf10f14",
   "metadata": {},
   "outputs": [],
   "source": []
  },
  {
   "cell_type": "markdown",
   "id": "a9fa7bd2",
   "metadata": {},
   "source": [
    "### 108\n",
    "Open the Names.txt file. Ask the user to input a\n",
    "new name. Add this to the end of the file and\n",
    "display the entire file."
   ]
  },
  {
   "cell_type": "code",
   "execution_count": null,
   "id": "a9125b80",
   "metadata": {},
   "outputs": [],
   "source": []
  },
  {
   "cell_type": "markdown",
   "id": "6254152f",
   "metadata": {},
   "source": [
    "### 109\n",
    "Display the following menu to the user:\n",
    "Ask the user to enter 1, 2 or 3. If they select\n",
    "anything other than 1, 2 or 3 it should display a\n",
    "suitable error message.\n",
    "If they select 1, ask the user to enter a school\n",
    "subject and save it to a new file called\n",
    "“Subject.txt”. It should overwrite any existing file\n",
    "with a new file.\n",
    "If they select 2, display the contents of the\n",
    "“Subject.txt” file.\n",
    "If they select 3, ask the user to enter a new\n",
    "subject and save it to the file and then display\n",
    "the entire contents of the file.\n",
    "Run the program several times to test the\n",
    "options."
   ]
  },
  {
   "cell_type": "code",
   "execution_count": null,
   "id": "72c0173c",
   "metadata": {},
   "outputs": [],
   "source": []
  },
  {
   "cell_type": "markdown",
   "id": "dc6422a5",
   "metadata": {},
   "source": [
    "### 110\n",
    "Using the Names.txt file you\n",
    "created earlier, display the list of\n",
    "names in Python. Ask the user to\n",
    "type in one of the names and then\n",
    "save all the names except the one\n",
    "they entered into a new file called\n",
    "Names2.txt."
   ]
  },
  {
   "cell_type": "code",
   "execution_count": null,
   "id": "93ca8c8e",
   "metadata": {},
   "outputs": [],
   "source": []
  },
  {
   "cell_type": "markdown",
   "id": "0f8af9a0",
   "metadata": {},
   "source": [
    "## Reading and Writing to a .csv File"
   ]
  },
  {
   "cell_type": "markdown",
   "id": "0baecb46",
   "metadata": {},
   "source": [
    "### 111\n",
    "Create a .csv file that will store the following data. Call it “Books.csv”.\n",
    "0\n",
    "1\n",
    "2\n",
    "3\n",
    "4\n",
    "Book\n",
    "To Kill A Mockingbird\n",
    "A Brief History of Time\n",
    "The Great Gatsby\n",
    "The Man Who Mistook His Wife for a Hat\n",
    "Pride and Prejudice\n",
    "Author\n",
    "Harper Lee\n",
    "Stephen Hawking\n",
    "F. Scott Fitzgerald\n",
    "Oliver Sacks\n",
    "Jane Austen\n",
    "Year Released\n",
    "1960\n",
    "1988\n",
    "1922\n",
    "1985\n",
    "1813"
   ]
  },
  {
   "cell_type": "code",
   "execution_count": null,
   "id": "28e3c120",
   "metadata": {},
   "outputs": [],
   "source": []
  },
  {
   "cell_type": "markdown",
   "id": "e8da5e1e",
   "metadata": {},
   "source": [
    "### 112\n",
    "Using the Books.csv file\n",
    "from program 111, ask\n",
    "the user to enter another\n",
    "record and add it to the\n",
    "end of the file. Display\n",
    "each row of the .csv file\n",
    "on a separate line."
   ]
  },
  {
   "cell_type": "code",
   "execution_count": null,
   "id": "e4539212",
   "metadata": {},
   "outputs": [],
   "source": []
  },
  {
   "cell_type": "markdown",
   "id": "0a90247f",
   "metadata": {},
   "source": [
    "### 113\n",
    "Using the Books.csv file, ask the user how many records\n",
    "they want to add to the list and then allow them to add\n",
    "that many. After all the data has been added, ask for an\n",
    "author and display all the books in the list by that author.\n",
    "If there are no books by that author in the list, display a\n",
    "suitable message."
   ]
  },
  {
   "cell_type": "code",
   "execution_count": null,
   "id": "994aa0ff",
   "metadata": {},
   "outputs": [],
   "source": []
  },
  {
   "cell_type": "markdown",
   "id": "ddd5a452",
   "metadata": {},
   "source": [
    "### 114\n",
    "Using the Books.csv file, ask the user\n",
    "to enter a starting year and an end\n",
    "year. Display all books released\n",
    "between those two years."
   ]
  },
  {
   "cell_type": "code",
   "execution_count": null,
   "id": "335d61ee",
   "metadata": {},
   "outputs": [],
   "source": []
  },
  {
   "cell_type": "markdown",
   "id": "2efaf6f5",
   "metadata": {},
   "source": [
    "### 115\n",
    "Using the Books.csv file, display the data in\n",
    "the file along with the row number of each."
   ]
  },
  {
   "cell_type": "code",
   "execution_count": null,
   "id": "e043d0d4",
   "metadata": {},
   "outputs": [],
   "source": []
  },
  {
   "cell_type": "markdown",
   "id": "ee41f68f",
   "metadata": {},
   "source": [
    "### 116\n",
    "Import the data from the Books.csv file into a list. Display the\n",
    "list to the user. Ask them to select which row from the list\n",
    "they want to delete and remove it from the list. Ask the user\n",
    "which data they want to change and allow them to change it.\n",
    "Write the data back to the original .csv file, overwriting the\n",
    "existing data with the amended data."
   ]
  },
  {
   "cell_type": "code",
   "execution_count": null,
   "id": "925a1ac0",
   "metadata": {},
   "outputs": [],
   "source": []
  },
  {
   "cell_type": "markdown",
   "id": "200d0c31",
   "metadata": {},
   "source": [
    "### 117\n",
    "Create a simple maths quiz that will ask the user for their name and then generate two\n",
    "random questions. Store their name, the questions they were asked, their answers and\n",
    "their final score in a .csv file. Whenever the program is run it should add to the .csv file\n",
    "and not overwrite anything."
   ]
  },
  {
   "cell_type": "code",
   "execution_count": null,
   "id": "aa2c6885",
   "metadata": {},
   "outputs": [],
   "source": []
  },
  {
   "cell_type": "markdown",
   "id": "297762fd",
   "metadata": {},
   "source": [
    "## Subprograms"
   ]
  },
  {
   "cell_type": "markdown",
   "id": "7aafdf9b",
   "metadata": {},
   "source": [
    "### 118\n",
    "Define a subprogram that will ask the user to\n",
    "enter a number and save it as the variable\n",
    "“num”. Define another subprogram that will\n",
    "use “num” and count from 1 to that number."
   ]
  },
  {
   "cell_type": "code",
   "execution_count": null,
   "id": "29e3dcfd",
   "metadata": {},
   "outputs": [],
   "source": []
  },
  {
   "cell_type": "markdown",
   "id": "6451b8c6",
   "metadata": {},
   "source": [
    "### 019\n",
    "Define a subprogram\n",
    "that will ask the user to\n",
    "pick a low and a high\n",
    "number, and then\n",
    "generate a random\n",
    "number between those\n",
    "two values and store it in\n",
    "a variable called\n",
    "“comp_num”.\n",
    "\n",
    "Define another\n",
    "subprogram that will\n",
    "give the instruction “I am\n",
    "thinking of a number…”\n",
    "and then ask the user to\n",
    "guess the number they\n",
    "are thinking of.\n",
    "Define a third\n",
    "subprogram that will\n",
    "check to see if the\n",
    "comp_num is the same\n",
    "as the user’s guess. If it\n",
    "is, it should display the\n",
    "message “Correct, you\n",
    "win”, otherwise it should\n",
    "keep looping, telling the\n",
    "user if they are too low or\n",
    "too high and asking them\n",
    "to guess again until they\n",
    "guess correctly."
   ]
  },
  {
   "cell_type": "code",
   "execution_count": null,
   "id": "1b50ed2a",
   "metadata": {},
   "outputs": [],
   "source": []
  },
  {
   "cell_type": "markdown",
   "id": "4255cd7a",
   "metadata": {},
   "source": [
    "### 120\n",
    "\n",
    "Display the following menu to the user:\n",
    "If they enter a 1, it should run a subprogram that will\n",
    "generate two random numbers between 5 and 20, and\n",
    "ask the user to add them together. Work out the correct\n",
    "answer and return both the user’s answer and the\n",
    "correct answer.\n",
    "If they entered 2 as their selection on the menu, it\n",
    "should run a subprogram that will generate one number\n",
    "between 25 and 50 and another number between 1 and\n",
    "25 and ask them to work out num1 minus num2. This\n",
    "way they will not have to worry about negative answers.\n",
    "Return both the user’s answer and the correct answer.\n",
    "Create another subprogram that will check if the user’s\n",
    "answer matches the actual answer. If it does, display\n",
    "“Correct”, otherwise display a message that will say\n",
    "“Incorrect, the answer is” and display the real answer.\n",
    "If they do not select a relevant option on the first menu\n",
    "you should display a suitable message."
   ]
  },
  {
   "cell_type": "code",
   "execution_count": null,
   "id": "17b27ac5",
   "metadata": {},
   "outputs": [],
   "source": []
  },
  {
   "cell_type": "markdown",
   "id": "d1a770c1",
   "metadata": {},
   "source": [
    "### 121\n",
    "121\n",
    "Create a program that will allow the user to easily manage a list of names. You should\n",
    "display a menu that will allow them to add a name to the list, change a name in the\n",
    "list, delete a name from the list or view all the names in the list. There should also be a\n",
    "menu option to allow the user to end the program. If they select an option that is not\n",
    "relevant, then it should display a suitable message. After they have made a selection\n",
    "to either add a name, change a name, delete a name or view all the names, they\n",
    "should see the menu again without having to restart the program. The program\n",
    "should be made as easy to use as possible."
   ]
  },
  {
   "cell_type": "code",
   "execution_count": null,
   "id": "654a9dc1",
   "metadata": {},
   "outputs": [],
   "source": []
  },
  {
   "cell_type": "markdown",
   "id": "e1cea4c7",
   "metadata": {},
   "source": [
    "### 122\n",
    "Create the following menu:\n",
    "###### 1) Add to file\n",
    "###### 2) View all records\n",
    "###### 3) Quit program\n",
    "###### Enter the number of your selection:\n",
    "If the user selects 1, allow them to add to a file\n",
    "called Salaries.csv which will store their name\n",
    "and salary. If they select 2 it should display all\n",
    "records in the Salaries.csv file. If they select 3 it\n",
    "should stop the program. If they select an\n",
    "incorrect option they should see an error\n",
    "message. They should keep returning to the\n",
    "menu until they select option 3."
   ]
  },
  {
   "cell_type": "code",
   "execution_count": null,
   "id": "0cbcf37d",
   "metadata": {},
   "outputs": [],
   "source": []
  },
  {
   "cell_type": "markdown",
   "id": "78f948c6",
   "metadata": {},
   "source": [
    "### 123\n",
    "In Python, it is not technically possible to directly\n",
    "delete a record from a .csv file. Instead you need\n",
    "to save the file to a temporary list in Python,\n",
    "make the changes to the list and then overwrite\n",
    "the original file with the temporary list.\n",
    "Change the previous program to allow you to do\n",
    "this. Your menu should now look like this:\n",
    "###### 1) Add to file\n",
    "###### 2) View all records\n",
    "###### 3) Delete a record\n",
    "###### 4) Quit a program\n",
    "\n",
    "###### Enter the number of your selection:"
   ]
  },
  {
   "cell_type": "code",
   "execution_count": null,
   "id": "2026d381",
   "metadata": {},
   "outputs": [],
   "source": []
  },
  {
   "cell_type": "markdown",
   "id": "1461c8d3",
   "metadata": {},
   "source": [
    "## Tkinter GUI"
   ]
  },
  {
   "cell_type": "markdown",
   "id": "f1198e4f",
   "metadata": {},
   "source": [
    "### 124\n",
    "Create a window that will\n",
    "ask the user to enter their\n",
    "name. When they click on\n",
    "a button it should display\n",
    "the message “Hello” and\n",
    "their name and change\n",
    "the background colour\n",
    "and font colour of the\n",
    "message box."
   ]
  },
  {
   "cell_type": "code",
   "execution_count": null,
   "id": "d93b0a7a",
   "metadata": {},
   "outputs": [],
   "source": []
  },
  {
   "cell_type": "markdown",
   "id": "5e8b6a66",
   "metadata": {},
   "source": [
    "### 125\n",
    "Write a program that\n",
    "can be used instead\n",
    "of rolling a six-sided\n",
    "die in a board game.\n",
    "When the user clicks\n",
    "a button it should\n",
    "display a random\n",
    "whole number\n",
    "between 1 to 6\n",
    "(inclusive)."
   ]
  },
  {
   "cell_type": "code",
   "execution_count": null,
   "id": "4a790599",
   "metadata": {},
   "outputs": [],
   "source": []
  },
  {
   "cell_type": "markdown",
   "id": "8b1276ca",
   "metadata": {},
   "source": [
    "### 126\n",
    "Create a program that will ask\n",
    "the user to enter a number in a\n",
    "box. When they click on a\n",
    "button it will add that number\n",
    "to a total and display it in\n",
    "another box. This can be\n",
    "repeated as many times as\n",
    "they want and keep adding to\n",
    "the total. There should be\n",
    "another button that resets the\n",
    "total back to 0 and empties the\n",
    "original text box, ready for\n",
    "them to start again."
   ]
  },
  {
   "cell_type": "code",
   "execution_count": null,
   "id": "70776c48",
   "metadata": {},
   "outputs": [],
   "source": []
  },
  {
   "cell_type": "markdown",
   "id": "a96fac14",
   "metadata": {},
   "source": [
    "### 127\n",
    "Create a window that will ask the user to enter a\n",
    "name in a text box. When they click on a button it\n",
    "will add it to the end of the list that is displayed on\n",
    "the screen. Create another button which will clear\n",
    "the list."
   ]
  },
  {
   "cell_type": "code",
   "execution_count": null,
   "id": "f0f67290",
   "metadata": {},
   "outputs": [],
   "source": []
  },
  {
   "cell_type": "markdown",
   "id": "6dc4125a",
   "metadata": {},
   "source": [
    "### 128\n",
    "1 kilometre = 0.6214 miles and 1\n",
    "mile = 1.6093 kilometres. Using\n",
    "these figures, make a program\n",
    "that will allow the user to\n",
    "convert between miles and\n",
    "kilometres."
   ]
  },
  {
   "cell_type": "code",
   "execution_count": null,
   "id": "434729cd",
   "metadata": {},
   "outputs": [],
   "source": []
  },
  {
   "cell_type": "markdown",
   "id": "d6bc70f4",
   "metadata": {},
   "source": [
    "### 129\n",
    "Create a window that will ask the\n",
    "user to enter a number in a text box.\n",
    "When they click on a button it will\n",
    "use the code\n",
    "variable.isdigit() to check\n",
    "to see if it is a whole number. If it is\n",
    "a whole number, add it to a list box,\n",
    "otherwise clear the entry box. Add\n",
    "another button that will clear the\n",
    "list."
   ]
  },
  {
   "cell_type": "code",
   "execution_count": null,
   "id": "472db84b",
   "metadata": {},
   "outputs": [],
   "source": []
  },
  {
   "cell_type": "markdown",
   "id": "5537488e",
   "metadata": {},
   "source": [
    "### 130\n",
    "\n",
    "Alter program 129 to add a third button that\n",
    "will save the list to a .csv file. The code\n",
    "tmp_list = num_list.get(0,END)\n",
    "can be used to save the contents of a list box\n",
    "as a tuple called tmp_list ."
   ]
  },
  {
   "cell_type": "code",
   "execution_count": null,
   "id": "11125d54",
   "metadata": {},
   "outputs": [],
   "source": []
  },
  {
   "cell_type": "markdown",
   "id": "69609ef2",
   "metadata": {},
   "source": [
    "### 131 \n",
    "Create a program that will allow the\n",
    "user to create a new .csv file. It should\n",
    "ask them to enter the name and age of\n",
    "a person and then allow them to add\n",
    "this to the end of the file they have\n",
    "just created"
   ]
  },
  {
   "cell_type": "code",
   "execution_count": null,
   "id": "72ea0489",
   "metadata": {},
   "outputs": [],
   "source": []
  },
  {
   "cell_type": "markdown",
   "id": "3fa61469",
   "metadata": {},
   "source": [
    "### 132\n",
    "Using the .csv file you created for the last\n",
    "challenge, create a program that will allow\n",
    "people to add names and ages to the list\n",
    "and create a button that will display the\n",
    "contents of the .csv file by importing it to a\n",
    "list box."
   ]
  },
  {
   "cell_type": "code",
   "execution_count": null,
   "id": "f24ebc01",
   "metadata": {},
   "outputs": [],
   "source": []
  },
  {
   "cell_type": "markdown",
   "id": "3b1f3097",
   "metadata": {},
   "source": [
    "## More Tkinter"
   ]
  },
  {
   "cell_type": "markdown",
   "id": "a8c8f1dd",
   "metadata": {},
   "source": [
    "### 133\n",
    "Create your own icon that consists of several\n",
    "vertical multi-coloured lines. Create a logo\n",
    "which measures 200 x 150, using Paint or\n",
    "another graphics package. Create the\n",
    "following window using your own icon and\n",
    "logo.\n",
    "\n",
    "When the user enters their name and clicks\n",
    "on the Press Me button it should display\n",
    "“Hello” and their name in the second text\n",
    "box."
   ]
  },
  {
   "cell_type": "code",
   "execution_count": null,
   "id": "8c123310",
   "metadata": {},
   "outputs": [],
   "source": []
  },
  {
   "cell_type": "markdown",
   "id": "6617a5c9",
   "metadata": {},
   "source": [
    "### 134\n",
    "Create a new program that will\n",
    "generate two random whole numbers\n",
    "between 10 and 50. It should ask the\n",
    "user to add the numbers together and\n",
    "type in the answer. If they get the\n",
    "question correct, display a suitable\n",
    "image such as a tick; if they get the\n",
    "answer wrong, display another\n",
    "suitable image such as a cross. They\n",
    "should click on a Next button to get\n",
    "another question."
   ]
  },
  {
   "cell_type": "code",
   "execution_count": null,
   "id": "e87b2347",
   "metadata": {},
   "outputs": [],
   "source": []
  },
  {
   "cell_type": "markdown",
   "id": "496697e0",
   "metadata": {},
   "source": [
    "# 135\n",
    "Create a simple program that shows a\n",
    "drop-down list containing several\n",
    "colours and a Click Me button. When\n",
    "the user selects a colour from the list\n",
    "and clicks the button it should\n",
    "change the background of the\n",
    "window to that colour. For an extra\n",
    "challenge, try to avoid using an if\n",
    "statement to do this."
   ]
  },
  {
   "cell_type": "code",
   "execution_count": null,
   "id": "ad386080",
   "metadata": {},
   "outputs": [],
   "source": []
  },
  {
   "cell_type": "markdown",
   "id": "d1fb0547",
   "metadata": {},
   "source": [
    "### 136\n",
    "Create a program that will ask the user to\n",
    "enter a name and then select the gender for\n",
    "that person from a drop-down list. It should\n",
    "then add the name and the gender\n",
    "(separated by a comma) to a list box when\n",
    "the user clicks on a button."
   ]
  },
  {
   "cell_type": "code",
   "execution_count": null,
   "id": "ed200c3d",
   "metadata": {},
   "outputs": [],
   "source": []
  },
  {
   "cell_type": "markdown",
   "id": "47a24337",
   "metadata": {},
   "source": [
    "### 137\n",
    "Change program 136 so that when a\n",
    "new name and gender is added to the\n",
    "list box it is also written to a text file.\n",
    "Add another button that will display\n",
    "the entire text file in the main Python\n",
    "shell window."
   ]
  },
  {
   "cell_type": "code",
   "execution_count": null,
   "id": "4edc13df",
   "metadata": {},
   "outputs": [],
   "source": []
  },
  {
   "cell_type": "markdown",
   "id": "2e8ad10f",
   "metadata": {},
   "source": [
    "### 138\n",
    "\n",
    "Save several images in the same folder as your\n",
    "program and call them 1.gif, 2.gif, 3.gif, etc. Make\n",
    "sure they are all .gif files. Display one in a window\n",
    "and ask the user to enter a number. It should then\n",
    "use that number to choose the correct file name and\n",
    "display the correct image."
   ]
  },
  {
   "cell_type": "code",
   "execution_count": null,
   "id": "6119a602",
   "metadata": {},
   "outputs": [],
   "source": []
  },
  {
   "cell_type": "markdown",
   "id": "88480649",
   "metadata": {},
   "source": []
  },
  {
   "cell_type": "code",
   "execution_count": null,
   "id": "06d232ed",
   "metadata": {},
   "outputs": [],
   "source": []
  },
  {
   "cell_type": "markdown",
   "id": "09c485cf",
   "metadata": {},
   "source": []
  },
  {
   "cell_type": "code",
   "execution_count": null,
   "id": "b2f01835",
   "metadata": {},
   "outputs": [],
   "source": []
  },
  {
   "cell_type": "markdown",
   "id": "0bc5f03b",
   "metadata": {},
   "source": []
  },
  {
   "cell_type": "code",
   "execution_count": null,
   "id": "2b27343b",
   "metadata": {},
   "outputs": [],
   "source": []
  },
  {
   "cell_type": "code",
   "execution_count": null,
   "id": "5dc0ac27",
   "metadata": {},
   "outputs": [],
   "source": []
  },
  {
   "cell_type": "code",
   "execution_count": null,
   "id": "b0bd262f",
   "metadata": {},
   "outputs": [],
   "source": []
  }
 ],
 "metadata": {
  "kernelspec": {
   "display_name": "Python 3 (ipykernel)",
   "language": "python",
   "name": "python3"
  },
  "language_info": {
   "codemirror_mode": {
    "name": "ipython",
    "version": 3
   },
   "file_extension": ".py",
   "mimetype": "text/x-python",
   "name": "python",
   "nbconvert_exporter": "python",
   "pygments_lexer": "ipython3",
   "version": "3.8.10"
  }
 },
 "nbformat": 4,
 "nbformat_minor": 5
}
